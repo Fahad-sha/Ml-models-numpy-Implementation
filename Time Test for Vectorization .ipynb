{
 "cells": [
  {
   "attachments": {
    "4da26986-1c3b-4afb-bee1-13e2b5a9b454.png": {
     "image/png": "[encoded data removed]"
    }
   },
   "cell_type": "markdown",
   "id": "be4d0d6c-c396-42d7-b127-88ee0c202e07",
   "metadata": {},
   "source": [
    "![image.png](attachment:4da26986-1c3b-4afb-bee1-13e2b5a9b454.png)"
   ]
  },
  {
   "cell_type": "code",
   "execution_count": 1,
   "id": "0f78d348-875e-4f7e-ad9c-43ab9a9b7a7e",
   "metadata": {},
   "outputs": [],
   "source": [
    "import numpy as np"
   ]
  },
  {
   "cell_type": "code",
   "execution_count": 3,
   "id": "fc2dde05-b535-44cd-93d3-7cc69adc58b3",
   "metadata": {},
   "outputs": [
    {
     "name": "stdout",
     "output_type": "stream",
     "text": [
      "[1 2 3 4 5]\n"
     ]
    }
   ],
   "source": [
    "a = np.array([1,2,3,4,5])\n",
    "print (a)"
   ]
  },
  {
   "cell_type": "code",
   "execution_count": 2,
   "id": "b523dac2-ec30-4151-a3df-cc221838e517",
   "metadata": {},
   "outputs": [],
   "source": [
    "import time"
   ]
  },
  {
   "cell_type": "code",
   "execution_count": 6,
   "id": "1ad7e4c1-3295-4c50-b0c4-1e7417047040",
   "metadata": {},
   "outputs": [
    {
     "name": "stdout",
     "output_type": "stream",
     "text": [
      "Vectorization time: 2.040863037109375 ms\n",
      "25051.719164325496\n"
     ]
    }
   ],
   "source": [
    "tic = time.time()\n",
    "a  = np.random.rand(100000)\n",
    "b  = np.random.rand(100000)\n",
    "c = np.dot(a,b)\n",
    "toc = time.time()\n",
    "print(\"Vectorization time:\",  1000*(toc-tic), \"ms\")\n",
    "print(c)"
   ]
  },
  {
   "cell_type": "code",
   "execution_count": 8,
   "id": "e67c5a7b-5472-4a8c-a63b-a2a5d76a532e",
   "metadata": {},
   "outputs": [
    {
     "name": "stdout",
     "output_type": "stream",
     "text": [
      "For loop time: 34.74688529968262 ms\n",
      "25051.719164325692\n"
     ]
    }
   ],
   "source": [
    "tic = time.time()\n",
    "c = 0\n",
    "for i in range(100000):\n",
    "    c += a[i]*b[i]\n",
    "toc = time.time()\n",
    "print(\"For loop time:\", 1000*(toc-tic),\"ms\")\n",
    "print(c)"
   ]
  },
  {
   "cell_type": "code",
   "execution_count": 34,
   "id": "6ea57f9e-943e-4bdc-a88c-0e12da46a99d",
   "metadata": {},
   "outputs": [
    {
     "data": {
      "text/plain": [
       "24840.99896273378"
      ]
     },
     "execution_count": 34,
     "metadata": {},
     "output_type": "execute_result"
    }
   ],
   "source": [
    "c"
   ]
  },
  {
   "cell_type": "code",
   "execution_count": 10,
   "id": "e4af07d6-2164-4449-a61c-17e9bd347296",
   "metadata": {},
   "outputs": [
    {
     "name": "stdout",
     "output_type": "stream",
     "text": [
      "Vectorization time: 1.627206802368164 ms\n",
      "24884.625\n"
     ]
    }
   ],
   "source": [
    "import torch\n",
    "\n",
    "tic = time.time()\n",
    "a = torch.rand(100000)\n",
    "b = torch.rand(100000)\n",
    "c = torch.dot(a, b)\n",
    "toc = time.time()\n",
    "\n",
    "print(\"Vectorization time:\", 1000 * (toc - tic), \"ms\")\n",
    "print(c.item())\n"
   ]
  },
  {
   "cell_type": "code",
   "execution_count": 12,
   "id": "772d36c5-2595-467f-97a3-ce191cd1b507",
   "metadata": {},
   "outputs": [
    {
     "name": "stdout",
     "output_type": "stream",
     "text": [
      "Using device: cuda\n",
      "Vectorization time (GPU): 30.486583709716797 ms\n",
      "24976.396484375\n"
     ]
    }
   ],
   "source": [
    "import torch\n",
    "import time\n",
    "\n",
    "# Ensure CUDA is available\n",
    "device = torch.device(\"cuda\" if torch.cuda.is_available() else \"cpu\")\n",
    "print(f\"Using device: {device}\")\n",
    "\n",
    "# Move tensors to GPU\n",
    "a = torch.rand(100000, device=device)\n",
    "b = torch.rand(100000, device=device)\n",
    "\n",
    "# Synchronize before starting the timer\n",
    "torch.cuda.synchronize()\n",
    "tic = time.time()\n",
    "\n",
    "# Perform dot product\n",
    "c = torch.dot(a, b)\n",
    "\n",
    "# Synchronize after operation to get accurate timing\n",
    "torch.cuda.synchronize()\n",
    "toc = time.time()\n",
    "\n",
    "print(\"Vectorization time (GPU):\", 1000 * (toc - tic), \"ms\")\n",
    "print(c.item())\n"
   ]
  },
  {
   "cell_type": "code",
   "execution_count": 14,
   "id": "12c9a6c2-1703-4649-bf79-e3b4a4399da9",
   "metadata": {},
   "outputs": [
    {
     "name": "stdout",
     "output_type": "stream",
     "text": [
      "CPU matrix multiplication time: 13.394355773925781 ms\n",
      "GPU matrix multiplication time: 1.0478496551513672 ms\n"
     ]
    }
   ],
   "source": [
    "import torch\n",
    "import time\n",
    "\n",
    "# Matrix size\n",
    "N = 1000\n",
    "\n",
    "# CPU version\n",
    "A_cpu = torch.rand(N, N)\n",
    "B_cpu = torch.rand(N, N)\n",
    "\n",
    "tic_cpu = time.time()\n",
    "C_cpu = torch.matmul(A_cpu, B_cpu)\n",
    "toc_cpu = time.time()\n",
    "\n",
    "print(\"CPU matrix multiplication time:\", 1000 * (toc_cpu - tic_cpu), \"ms\")\n",
    "\n",
    "# Check if GPU is available\n",
    "if torch.cuda.is_available():\n",
    "    device = torch.device(\"cuda\")\n",
    "\n",
    "    # Move matrices to GPU\n",
    "    A_gpu = torch.rand(N, N, device=device)\n",
    "    B_gpu = torch.rand(N, N, device=device)\n",
    "\n",
    "    # GPU timing with synchronization\n",
    "    torch.cuda.synchronize()\n",
    "    tic_gpu = time.time()\n",
    "    C_gpu = torch.matmul(A_gpu, B_gpu)\n",
    "    torch.cuda.synchronize()\n",
    "    toc_gpu = time.time()\n",
    "\n",
    "    print(\"GPU matrix multiplication time:\", 1000 * (toc_gpu - tic_gpu), \"ms\")\n",
    "else:\n",
    "    print(\"CUDA GPU not available.\")\n"
   ]
  },
  {
   "cell_type": "code",
   "execution_count": null,
   "id": "d15b14cd-0c8a-4bf0-b5ec-18b417164216",
   "metadata": {},
   "outputs": [],
   "source": []
  }
 ],
 "metadata": {
  "kernelspec": {
   "display_name": "Python 3 (ipykernel)",
   "language": "python",
   "name": "python3"
  },
  "language_info": {
   "codemirror_mode": {
    "name": "ipython",
    "version": 3
   },
   "file_extension": ".py",
   "mimetype": "text/x-python",
   "name": "python",
   "nbconvert_exporter": "python",
   "pygments_lexer": "ipython3",
   "version": "3.11.7"
  }
 },
 "nbformat": 4,
 "nbformat_minor": 5
}
