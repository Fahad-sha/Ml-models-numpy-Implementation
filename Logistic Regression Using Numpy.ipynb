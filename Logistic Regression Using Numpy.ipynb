{
 "cells": [
  {
   "cell_type": "markdown",
   "id": "5c3343a0-4b9c-451e-90f6-281378c56061",
   "metadata": {},
   "source": [
    "# Logistic Regression\n",
    "\n",
    "## Overview\n",
    "\n",
    "Logistic regression is a fundamental supervised learning algorithm for binary classification. It predicts the probability that an observation belongs to one of two classes (e.g., “rainy” vs. “sunny”) using a linear model combined with a sigmoid function to produce outputs in the range $[0, 1]$.\n",
    "\n",
    "The model is interpretable, easy to implement, and serves as the basis for more advanced classification methods.\n",
    "\n",
    "---\n",
    "\n",
    "## The Logistic Regression Equation\n",
    "\n",
    "For input features $X = (x_1, x_2, \\dots, x_k)$, the model predicts the probability of the positive class as:\n",
    "\n",
    "$$\n",
    "P(y = 1 \\mid X) = \\sigma(z) = \\frac{1}{1 + e^{-z}}\n",
    "$$\n",
    "\n",
    "where\n",
    "\n",
    "$$\n",
    "z = \\beta_0 + \\beta_1 x_1 + \\beta_2 x_2 + \\dots + \\beta_k x_k\n",
    "$$\n",
    "\n",
    "Here, $\\beta_0, \\beta_1, \\dots, \\beta_k$ are the model coefficients (\"weights\").\n",
    "\n",
    "The sigmoid function $\\sigma(z)$ squashes the linear output into the interval $(0, 1)$, making it interpretable as a probability.\n",
    "\n",
    "---"
   ]
  },
  {
   "cell_type": "markdown",
   "id": "34405981-9821-423c-9090-d75135aa9bda",
   "metadata": {},
   "source": [
    "\n",
    "## The Role of the Sigmoid Function\n",
    "\n",
    "The sigmoid:\n",
    "\n",
    "$$\n",
    "\\sigma(z) = \\frac{1}{1 + e^{-z}}\n",
    "$$\n",
    "\n",
    "- Converts any real value $z$ into $(0,1)$ for probability interpretation.\n",
    "- Links the linear predictor to the probability of the positive class.\n",
    "- Its smooth and differentiable shape allows for efficient optimization.\n",
    "\n",
    "---\n",
    "\n"
   ]
  },
  {
   "cell_type": "code",
   "execution_count": 73,
   "id": "9ad6234c-b0cc-495e-b8ca-7eba75b621d2",
   "metadata": {},
   "outputs": [
    {
     "name": "stdout",
     "output_type": "stream",
     "text": [
      "The jdc module is not an IPython extension.\n"
     ]
    }
   ],
   "source": [
    "import numpy as np\n",
    "import jdc\n",
    "import matplotlib.pyplot as plt\n",
    "%load_ext jdc\n",
    "\n",
    "class LogisticRegression:\n",
    "    def __init__(self, learning_rate=0.1, n_iters=1000):\n",
    "        self.learning_rate = learning_rate\n",
    "        self.n_iters = n_iters\n",
    "\n",
    "    def sigmoid(self, z):\n",
    "        z = np.clip(z, -500, 500)\n",
    "        return 1 / (1 + np.exp(-z))"
   ]
  },
  {
   "cell_type": "markdown",
   "id": "e6a83394-ffb6-4b45-9ee6-236783e8145c",
   "metadata": {},
   "source": [
    "## Making Predictions\n",
    "\n",
    "Predicted probability:\n",
    "\n",
    "$$\n",
    "P(y=1|X) = \\sigma(z)\n",
    "$$\n",
    "\n",
    "Class label prediction (with threshold $t$):\n",
    "\n",
    "$$\n",
    "\\hat{y} = \\begin{cases}\n",
    "1 & \\text{if } P(y=1|X) \\geq t \\\\\n",
    "0 & \\text{otherwise}\n",
    "\\end{cases}\n",
    "$$\n"
   ]
  },
  {
   "cell_type": "code",
   "execution_count": 74,
   "id": "83302e51-b3e6-434d-b1d3-3d77302bfc2d",
   "metadata": {},
   "outputs": [],
   "source": [
    "%%add_to LogisticRegression\n",
    "\n",
    "def predict_proba(self, X):\n",
    "    z = np.dot(X, self.w) + self.b\n",
    "    return self.sigmoid(z)\n",
    "\n",
    "def predict(self, X, threshold=0.5):\n",
    "    return (self.predict_proba(X) >= threshold).astype(int)\n"
   ]
  },
  {
   "cell_type": "markdown",
   "id": "84139336-774a-43f0-b30b-d7723a7d52fc",
   "metadata": {},
   "source": [
    "## Loss Function: Log-Loss (Cross-Entropy Loss)\n",
    "\n",
    "Log-Loss, also known as **binary cross-entropy loss**, is the standard loss function for binary classification tasks such as logistic regression.\n",
    "\n",
    "$$\n",
    "\\text{Log-Loss} = -\\frac{1}{n} \\sum_{i=1}^n \\left[\n",
    "    y_i \\log(p_i) + (1 - y_i) \\log(1 - p_i)\n",
    "\\right]\n",
    "$$\n",
    "\n",
    "- \\( y_i \\): True label for sample \\( i \\) (either 0 or 1)\n",
    "- \\( p_i \\): Predicted probability for sample \\( i \\) (output from the model, between 0 and 1)\n",
    "- \\( n \\): Number of samples\n",
    "\n",
    "---\n",
    "\n",
    "### Intuition\n",
    "\n",
    "- If the true label is **1** (\\( y_i = 1 \\)), only the \\( log(pi) \\) term is counted.\n",
    "- If the true label is **0** (\\( y_i = 0 \\)), only the \\( log(1 - pi) \\) term is counted.\n",
    "- Log-loss **strongly penalizes** confident but incorrect predictions (e.g., predicting \\( p_i = 0.01 \\) when \\( y_i = 1 \\)), making it highly sensitive to errors in probabilistic output.\n",
    "\n",
    "---\n"
   ]
  },
  {
   "cell_type": "code",
   "execution_count": 75,
   "id": "8bb3ab26-576f-4c1f-bb6f-c1da43f3f8fd",
   "metadata": {},
   "outputs": [],
   "source": [
    "%%add_to LogisticRegression\n",
    "\n",
    "def log_loss(self, y, y_hat):\n",
    "    # Binary cross-entropy\n",
    "    eps = 1e-15\n",
    "    y_hat = np.clip(y_hat, eps, 1 - eps)  # Avoid log(0)\n",
    "    return -np.mean(y * np.log(y_hat) + (1 - y) * np.log(1 - y_hat))\n"
   ]
  },
  {
   "cell_type": "markdown",
   "id": "84ba07ee-b46e-4e4c-be49-312f2d66d63f",
   "metadata": {},
   "source": [
    "\n",
    "## Model Fitting: Gradient Descent\n",
    "\n",
    "To fit the model (i.e., find the best $\\beta$ values), we minimize log-loss using gradient descent:\n",
    "\n",
    "- Start with initial guesses for the coefficients.\n",
    "- Iteratively update each parameter:\n",
    "\n",
    "$$\n",
    "\\beta_j \\gets \\beta_j - \\alpha \\frac{\\partial \\, \\text{Log-Loss}}{\\partial \\beta_j}\n",
    "$$\n",
    "\n",
    "- $\\alpha$ is the learning rate (step size).\n",
    "- The process repeats until convergence.\n",
    "\n",
    "---\n"
   ]
  },
  {
   "cell_type": "markdown",
   "id": "17f228f6-36f9-4a16-bb76-998038d3ce80",
   "metadata": {},
   "source": [
    "## Interpreting Coefficients\n",
    "\n",
    "- Each $\\beta_j$ shows the change in the log-odds for a one-unit increase in $x_j$ (all else fixed).\n",
    "- The odds are $p/(1-p)$ and the log-odds (logit) is $\\log\\left(\\frac{p}{1-p}\\right)$.\n",
    "- Exponentiating a coefficient (e.g., $e^{\\beta_j}$) gives the **multiplicative change in the odds**.\n",
    "\n",
    "---"
   ]
  },
  {
   "cell_type": "code",
   "execution_count": 76,
   "id": "fc7b05e9-16ac-4bd8-af98-b1757e14c09b",
   "metadata": {},
   "outputs": [],
   "source": [
    "%%add_to LogisticRegression\n",
    "\n",
    "def fit(self, X, y):\n",
    "    \n",
    "    X = np.asarray(X)\n",
    "    y = np.asarray(y).reshape(-1)\n",
    "    m, n = X.shape\n",
    "    self.w = np.zeros(n)\n",
    "    self.b = 0.0\n",
    "    self.loss_history = []\n",
    "    for _ in range(self.n_iters):\n",
    "        z = np.dot(X, self.w) + self.b\n",
    "        y_hat = self.sigmoid(z)\n",
    "        dw = np.dot(X.T, (y_hat - y)) / m\n",
    "        db = np.sum(y_hat - y) / m\n",
    "        self.w -= self.learning_rate * dw\n",
    "        self.b -= self.learning_rate * db\n",
    "        \n",
    "            # Record the loss value for plotting\n",
    "        loss = self.log_loss(y, y_hat)\n",
    "        self.loss_history.append(loss)\n",
    "    print (\"weight: \",self.w)\n",
    "    print (\"Biases: \",self.b)\n"
   ]
  },
  {
   "cell_type": "code",
   "execution_count": 77,
   "id": "e52f863d-7a50-4378-9d5a-3fc4e930dfb3",
   "metadata": {},
   "outputs": [],
   "source": [
    "%%add_to LogisticRegression\n",
    "\n",
    "def plot_loss(self):\n",
    "    plt.figure(figsize=(7, 4))\n",
    "    plt.plot(self.loss_history, label=\"Log-Loss during training\")\n",
    "    plt.xlabel(\"Iteration\")\n",
    "    plt.ylabel(\"Log-Loss\")\n",
    "    plt.title(\"Convergence of Logistic Regression\")\n",
    "    plt.legend()\n",
    "    plt.grid(True)\n",
    "    plt.show()"
   ]
  },
  {
   "cell_type": "markdown",
   "id": "24fbd5a5-5a87-4e45-a774-b72057e43166",
   "metadata": {},
   "source": [
    "## Computation Graph for One Step of Gradient Descent\n",
    "\n",
    "The sequence of computations in each iteration:\n",
    "\n",
    "1. Input data: $X$, $y$, weights $\\boldsymbol{\\beta}$, bias $\\beta_0$\n",
    "2. Linear combination: $z = X\\boldsymbol{\\beta} + \\beta_0$\n",
    "3. Sigmoid activation: $\\hat{\\mathbf{y}} = \\sigma(z)$\n",
    "4. Compute loss:\n",
    "   $$\n",
    "   L = -\\frac{1}{m} \\sum_{i=1}^m \\left(\n",
    "      y^{(i)} \\log(\\hat{y}^{(i)}) + (1 - y^{(i)}) \\log(1 - \\hat{y}^{(i)})\n",
    "   \\right)\n",
    "   $$\n",
    "5. Compute gradients:\n",
    "   $$\n",
    "   dw = \\frac{1}{m} X^T (\\hat{\\mathbf{y}} - \\mathbf{y})\n",
    "   $$\n",
    "   $$\n",
    "   db = \\frac{1}{m} \\sum_{i=1}^m (\\hat{y}^{(i)} - y^{(i)})\n",
    "   $$\n",
    "6. Update parameters:\n",
    "   $$\n",
    "   \\boldsymbol{\\beta} \\gets \\boldsymbol{\\beta} - \\text{learning rate} \\times dw\n",
    "   $$\n",
    "   $$\n",
    "   \\beta_0 \\gets \\beta_0 - \\text{learning rate} \\times db\n",
    "   $$\n",
    "\n",
    "### Visual Diagram\n",
    "\n",
    "You can visualize the flow as:\n",
    "\n"
   ]
  },
  {
   "cell_type": "code",
   "execution_count": 78,
   "id": "880960c3-01ce-435c-942c-c0585413619a",
   "metadata": {},
   "outputs": [],
   "source": [
    "# Example usage\n",
    "np.random.seed(0)\n",
    "X = np.vstack([np.random.randn(100, 2) + 2, np.random.randn(100, 2) - 2])\n",
    "y = np.hstack([np.ones(100), np.zeros(100)])\n"
   ]
  },
  {
   "cell_type": "code",
   "execution_count": 79,
   "id": "62271620-9cd9-433b-8bf5-bb27d77c7230",
   "metadata": {},
   "outputs": [
    {
     "name": "stdout",
     "output_type": "stream",
     "text": [
      "weight:  [1.93405985 1.90621262]\n",
      "Biases:  0.12372611235269244\n",
      "Training accuracy: 1.0\n"
     ]
    },
    {
     "data": {
      "image/png": "[encoded data removed]",
      "text/plain": [
       "<Figure size 700x400 with 1 Axes>"
      ]
     },
     "metadata": {},
     "output_type": "display_data"
    }
   ],
   "source": [
    "\n",
    "model = LogisticRegression(learning_rate=0.1, n_iters=1000)\n",
    "model.fit(X, y)\n",
    "\n",
    "y_pred = model.predict(X)\n",
    "print(\"Training accuracy:\", np.mean(y_pred == y))\n",
    "model.plot_loss()\n"
   ]
  },
  {
   "cell_type": "code",
   "execution_count": null,
   "id": "c961bce8-aef7-4283-9f57-fc1c7d11962c",
   "metadata": {},
   "outputs": [],
   "source": []
  }
 ],
 "metadata": {
  "kernelspec": {
   "display_name": "Python 3 (ipykernel)",
   "language": "python",
   "name": "python3"
  },
  "language_info": {
   "codemirror_mode": {
    "name": "ipython",
    "version": 3
   },
   "file_extension": ".py",
   "mimetype": "text/x-python",
   "name": "python",
   "nbconvert_exporter": "python",
   "pygments_lexer": "ipython3",
   "version": "3.10.16"
  }
 },
 "nbformat": 4,
 "nbformat_minor": 5
}
